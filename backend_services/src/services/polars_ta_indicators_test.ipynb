{
 "cells": [
  {
   "cell_type": "code",
   "execution_count": 1,
   "id": "10703e18",
   "metadata": {},
   "outputs": [
    {
     "name": "stdout",
     "output_type": "stream",
     "text": [
      "Requirement already satisfied: polars-talib in c:\\users\\fwmac\\anaconda3\\envs\\alpaca\\lib\\site-packages (0.1.5)\n",
      "Requirement already satisfied: polars>=0.19 in c:\\users\\fwmac\\anaconda3\\envs\\alpaca\\lib\\site-packages (from polars-talib) (1.31.0)\n",
      "Requirement already satisfied: alpaca-trade-api in c:\\users\\fwmac\\anaconda3\\envs\\alpaca\\lib\\site-packages (3.2.0)\n",
      "Requirement already satisfied: pandas>=0.18.1 in c:\\users\\fwmac\\anaconda3\\envs\\alpaca\\lib\\site-packages (from alpaca-trade-api) (2.2.3)\n",
      "Requirement already satisfied: numpy>=1.11.1 in c:\\users\\fwmac\\anaconda3\\envs\\alpaca\\lib\\site-packages (from alpaca-trade-api) (1.26.4)\n",
      "Requirement already satisfied: requests<3,>2 in c:\\users\\fwmac\\appdata\\roaming\\python\\python313\\site-packages (from alpaca-trade-api) (2.32.3)\n",
      "Requirement already satisfied: urllib3<2,>1.24 in c:\\users\\fwmac\\anaconda3\\envs\\alpaca\\lib\\site-packages (from alpaca-trade-api) (1.26.20)\n",
      "Requirement already satisfied: websocket-client<2,>=0.56.0 in c:\\users\\fwmac\\anaconda3\\envs\\alpaca\\lib\\site-packages (from alpaca-trade-api) (1.8.0)\n",
      "Requirement already satisfied: websockets<11,>=9.0 in c:\\users\\fwmac\\anaconda3\\envs\\alpaca\\lib\\site-packages (from alpaca-trade-api) (10.4)\n",
      "Requirement already satisfied: msgpack==1.0.3 in c:\\users\\fwmac\\anaconda3\\envs\\alpaca\\lib\\site-packages (from alpaca-trade-api) (1.0.3)\n",
      "Requirement already satisfied: aiohttp<4,>=3.8.3 in c:\\users\\fwmac\\anaconda3\\envs\\alpaca\\lib\\site-packages (from alpaca-trade-api) (3.10.11)\n",
      "Requirement already satisfied: PyYAML==6.0.1 in c:\\users\\fwmac\\anaconda3\\envs\\alpaca\\lib\\site-packages (from alpaca-trade-api) (6.0.1)\n",
      "Requirement already satisfied: deprecation==2.1.0 in c:\\users\\fwmac\\anaconda3\\envs\\alpaca\\lib\\site-packages (from alpaca-trade-api) (2.1.0)\n",
      "Requirement already satisfied: packaging in c:\\users\\fwmac\\anaconda3\\envs\\alpaca\\lib\\site-packages (from deprecation==2.1.0->alpaca-trade-api) (24.1)\n",
      "Requirement already satisfied: aiohappyeyeballs>=2.3.0 in c:\\users\\fwmac\\anaconda3\\envs\\alpaca\\lib\\site-packages (from aiohttp<4,>=3.8.3->alpaca-trade-api) (2.4.4)\n",
      "Requirement already satisfied: aiosignal>=1.1.2 in c:\\users\\fwmac\\anaconda3\\envs\\alpaca\\lib\\site-packages (from aiohttp<4,>=3.8.3->alpaca-trade-api) (1.3.2)\n",
      "Requirement already satisfied: attrs>=17.3.0 in c:\\users\\fwmac\\anaconda3\\envs\\alpaca\\lib\\site-packages (from aiohttp<4,>=3.8.3->alpaca-trade-api) (25.1.0)\n",
      "Requirement already satisfied: frozenlist>=1.1.1 in c:\\users\\fwmac\\anaconda3\\envs\\alpaca\\lib\\site-packages (from aiohttp<4,>=3.8.3->alpaca-trade-api) (1.5.0)\n",
      "Requirement already satisfied: multidict<7.0,>=4.5 in c:\\users\\fwmac\\anaconda3\\envs\\alpaca\\lib\\site-packages (from aiohttp<4,>=3.8.3->alpaca-trade-api) (6.1.0)\n",
      "Requirement already satisfied: yarl<2.0,>=1.12.0 in c:\\users\\fwmac\\anaconda3\\envs\\alpaca\\lib\\site-packages (from aiohttp<4,>=3.8.3->alpaca-trade-api) (1.18.3)\n",
      "Requirement already satisfied: python-dateutil>=2.8.2 in c:\\users\\fwmac\\anaconda3\\envs\\alpaca\\lib\\site-packages (from pandas>=0.18.1->alpaca-trade-api) (2.9.0.post0)\n",
      "Requirement already satisfied: pytz>=2020.1 in c:\\users\\fwmac\\anaconda3\\envs\\alpaca\\lib\\site-packages (from pandas>=0.18.1->alpaca-trade-api) (2024.1)\n",
      "Requirement already satisfied: tzdata>=2022.7 in c:\\users\\fwmac\\anaconda3\\envs\\alpaca\\lib\\site-packages (from pandas>=0.18.1->alpaca-trade-api) (2023.3)\n",
      "Requirement already satisfied: charset-normalizer<4,>=2 in c:\\users\\fwmac\\appdata\\roaming\\python\\python313\\site-packages (from requests<3,>2->alpaca-trade-api) (3.4.2)\n",
      "Requirement already satisfied: idna<4,>=2.5 in c:\\users\\fwmac\\appdata\\roaming\\python\\python313\\site-packages (from requests<3,>2->alpaca-trade-api) (3.10)\n",
      "Requirement already satisfied: certifi>=2017.4.17 in c:\\users\\fwmac\\appdata\\roaming\\python\\python313\\site-packages (from requests<3,>2->alpaca-trade-api) (2025.4.26)\n",
      "Requirement already satisfied: six>=1.5 in c:\\users\\fwmac\\anaconda3\\envs\\alpaca\\lib\\site-packages (from python-dateutil>=2.8.2->pandas>=0.18.1->alpaca-trade-api) (1.16.0)\n",
      "Requirement already satisfied: propcache>=0.2.0 in c:\\users\\fwmac\\anaconda3\\envs\\alpaca\\lib\\site-packages (from yarl<2.0,>=1.12.0->aiohttp<4,>=3.8.3->alpaca-trade-api) (0.2.1)\n",
      "Requirement already satisfied: yfinance in c:\\users\\fwmac\\anaconda3\\envs\\alpaca\\lib\\site-packages (0.2.54)\n",
      "Requirement already satisfied: pandas>=1.3.0 in c:\\users\\fwmac\\anaconda3\\envs\\alpaca\\lib\\site-packages (from yfinance) (2.2.3)\n",
      "Requirement already satisfied: numpy>=1.16.5 in c:\\users\\fwmac\\anaconda3\\envs\\alpaca\\lib\\site-packages (from yfinance) (1.26.4)\n",
      "Requirement already satisfied: requests>=2.31 in c:\\users\\fwmac\\appdata\\roaming\\python\\python313\\site-packages (from yfinance) (2.32.3)\n",
      "Requirement already satisfied: multitasking>=0.0.7 in c:\\users\\fwmac\\anaconda3\\envs\\alpaca\\lib\\site-packages (from yfinance) (0.0.11)\n",
      "Requirement already satisfied: platformdirs>=2.0.0 in c:\\users\\fwmac\\anaconda3\\envs\\alpaca\\lib\\site-packages (from yfinance) (3.10.0)\n",
      "Requirement already satisfied: pytz>=2022.5 in c:\\users\\fwmac\\anaconda3\\envs\\alpaca\\lib\\site-packages (from yfinance) (2024.1)\n",
      "Requirement already satisfied: frozendict>=2.3.4 in c:\\users\\fwmac\\anaconda3\\envs\\alpaca\\lib\\site-packages (from yfinance) (2.4.2)\n",
      "Requirement already satisfied: peewee>=3.16.2 in c:\\users\\fwmac\\anaconda3\\envs\\alpaca\\lib\\site-packages (from yfinance) (3.17.7)\n",
      "Requirement already satisfied: beautifulsoup4>=4.11.1 in c:\\users\\fwmac\\anaconda3\\envs\\alpaca\\lib\\site-packages (from yfinance) (4.12.3)\n",
      "Requirement already satisfied: soupsieve>1.2 in c:\\users\\fwmac\\anaconda3\\envs\\alpaca\\lib\\site-packages (from beautifulsoup4>=4.11.1->yfinance) (2.5)\n",
      "Requirement already satisfied: python-dateutil>=2.8.2 in c:\\users\\fwmac\\anaconda3\\envs\\alpaca\\lib\\site-packages (from pandas>=1.3.0->yfinance) (2.9.0.post0)\n",
      "Requirement already satisfied: tzdata>=2022.7 in c:\\users\\fwmac\\anaconda3\\envs\\alpaca\\lib\\site-packages (from pandas>=1.3.0->yfinance) (2023.3)\n",
      "Requirement already satisfied: charset-normalizer<4,>=2 in c:\\users\\fwmac\\appdata\\roaming\\python\\python313\\site-packages (from requests>=2.31->yfinance) (3.4.2)\n",
      "Requirement already satisfied: idna<4,>=2.5 in c:\\users\\fwmac\\appdata\\roaming\\python\\python313\\site-packages (from requests>=2.31->yfinance) (3.10)\n",
      "Requirement already satisfied: urllib3<3,>=1.21.1 in c:\\users\\fwmac\\anaconda3\\envs\\alpaca\\lib\\site-packages (from requests>=2.31->yfinance) (1.26.20)\n",
      "Requirement already satisfied: certifi>=2017.4.17 in c:\\users\\fwmac\\appdata\\roaming\\python\\python313\\site-packages (from requests>=2.31->yfinance) (2025.4.26)\n",
      "Requirement already satisfied: six>=1.5 in c:\\users\\fwmac\\anaconda3\\envs\\alpaca\\lib\\site-packages (from python-dateutil>=2.8.2->pandas>=1.3.0->yfinance) (1.16.0)\n",
      "Requirement already satisfied: polygon-api-client in c:\\users\\fwmac\\anaconda3\\envs\\alpaca\\lib\\site-packages (1.14.6)\n",
      "Requirement already satisfied: certifi<2026.0.0,>=2022.5.18 in c:\\users\\fwmac\\appdata\\roaming\\python\\python313\\site-packages (from polygon-api-client) (2025.4.26)\n",
      "Requirement already satisfied: urllib3<3.0.0,>=1.26.9 in c:\\users\\fwmac\\anaconda3\\envs\\alpaca\\lib\\site-packages (from polygon-api-client) (1.26.20)\n",
      "Requirement already satisfied: websockets<15.0,>=10.3 in c:\\users\\fwmac\\anaconda3\\envs\\alpaca\\lib\\site-packages (from polygon-api-client) (10.4)\n"
     ]
    }
   ],
   "source": [
    "!pip install polars-talib\n",
    "!pip install alpaca-trade-api\n",
    "!pip install yfinance\n",
    "!pip install -U polygon-api-client"
   ]
  },
  {
   "cell_type": "code",
   "execution_count": 2,
   "id": "dd62da66",
   "metadata": {},
   "outputs": [
    {
     "name": "stderr",
     "output_type": "stream",
     "text": [
      "2025-07-02 00:09:12 | lumibot.credentials | WARNING | \u001b[33mNo .env file found. This is ok if you are using environment variables or secrets (like on Replit, AWS, etc), but if you are not, please create a .env file in the root directory of the project.\u001b[0m\n"
     ]
    }
   ],
   "source": [
    "from polygon import RESTClient\n",
    "import polars as pl\n",
    "import polars_talib as plta\n",
    "from datetime import datetime, timedelta\n",
    "import lumibot\n",
    "\n",
    "from lumibot.backtesting import BacktestingBroker, PolygonDataBacktesting\n",
    "from lumibot.strategies import Strategy\n",
    "from lumibot.traders import Trader\n",
    "from indicators.IndicatorFactory import IndicatorFactory"
   ]
  },
  {
   "cell_type": "markdown",
   "id": "cb60f25b",
   "metadata": {},
   "source": [
    "##### Lumibot Implementation Example"
   ]
  },
  {
   "cell_type": "code",
   "execution_count": 3,
   "id": "ba244b11",
   "metadata": {},
   "outputs": [],
   "source": [
    "class MyStrategy(Strategy):\n",
    "    parameters = {\n",
    "        \"symbol\": \"AAPL\",\n",
    "    }\n",
    "\n",
    "    def initialize(self):\n",
    "        self.sleeptime = \"1M\"\n",
    "\n",
    "    def on_trading_iteration(self):\n",
    "        if self.first_iteration:\n",
    "            symbol = self.parameters[\"symbol\"]\n",
    "            price = self.get_last_price(symbol)\n",
    "            qty = self.portfolio_value / price\n",
    "            order = self.create_order(symbol, quantity=qty, side=\"buy\")\n",
    "            self.submit_order(order)"
   ]
  },
  {
   "cell_type": "code",
   "execution_count": 4,
   "id": "597e1515",
   "metadata": {},
   "outputs": [],
   "source": [
    "backtesting_start = datetime(2025, 1, 1)\n",
    "backtesting_end = datetime(2025, 1, 31)\n",
    "polygon_key = \"8XvjiWID5oKnXHWl2O0n7Pc6iyAoyKG3\""
   ]
  },
  {
   "cell_type": "markdown",
   "id": "b7e28ca8",
   "metadata": {},
   "source": [
    "result = MyStrategy.run_backtest(\n",
    "    PolygonDataBacktesting,\n",
    "    backtesting_start,\n",
    "    backtesting_end,\n",
    "    polygon_api_key=polygon_key,\n",
    "    benchmark_asset=\"SPY\")"
   ]
  },
  {
   "cell_type": "markdown",
   "id": "b4006fa9",
   "metadata": {},
   "source": [
    "### Polars DataFrame Example"
   ]
  },
  {
   "cell_type": "code",
   "execution_count": 5,
   "id": "8b560056",
   "metadata": {},
   "outputs": [
    {
     "name": "stdout",
     "output_type": "stream",
     "text": [
      "shape: (3, 3)\n",
      "┌─────────┬─────┬──────────┐\n",
      "│ name    ┆ age ┆ city     │\n",
      "│ ---     ┆ --- ┆ ---      │\n",
      "│ str     ┆ i64 ┆ str      │\n",
      "╞═════════╪═════╪══════════╡\n",
      "│ Alice   ┆ 25  ┆ New York │\n",
      "│ Bob     ┆ 30  ┆ London   │\n",
      "│ Charlie ┆ 35  ┆ Paris    │\n",
      "└─────────┴─────┴──────────┘\n"
     ]
    }
   ],
   "source": [
    "import polars as pl\n",
    "\n",
    "data = {\n",
    "    \"name\": [\"Alice\", \"Bob\", \"Charlie\"],\n",
    "    \"age\": [25, 30, 35],\n",
    "    \"city\": [\"New York\", \"London\", \"Paris\"]\n",
    "}\n",
    "df = pl.DataFrame(data)\n",
    "print(df)"
   ]
  },
  {
   "cell_type": "markdown",
   "id": "d534ea2d",
   "metadata": {},
   "source": [
    "#### Get stock data into Polars DF"
   ]
  },
  {
   "cell_type": "code",
   "execution_count": 6,
   "id": "28d03d4e",
   "metadata": {},
   "outputs": [
    {
     "name": "stdout",
     "output_type": "stream",
     "text": [
      "✅ Successfully fetched 15147 records for AAPL\n",
      "✅ Successfully fetched 11077 records for MSFT\n",
      "✅ Successfully fetched 10252 records for GOOG\n",
      "\n",
      "📊 AAPL Data Sample:\n",
      "shape: (5, 8)\n",
      "┌─────────────────────┬────────┬────────┬────────┬────────┬────────┬──────────┬────────┐\n",
      "│ timestamp           ┆ open   ┆ high   ┆ low    ┆ close  ┆ volume ┆ vwap     ┆ symbol │\n",
      "│ ---                 ┆ ---    ┆ ---    ┆ ---    ┆ ---    ┆ ---    ┆ ---      ┆ ---    │\n",
      "│ datetime[μs]        ┆ f64    ┆ f64    ┆ f64    ┆ f64    ┆ i64    ┆ f64      ┆ str    │\n",
      "╞═════════════════════╪════════╪════════╪════════╪════════╪════════╪══════════╪════════╡\n",
      "│ 2024-06-03 04:00:00 ┆ 192.45 ┆ 193.14 ┆ 192.45 ┆ 192.77 ┆ 3376   ┆ 192.8161 ┆ AAPL   │\n",
      "│ 2024-06-03 04:01:00 ┆ 192.69 ┆ 192.69 ┆ 192.69 ┆ 192.69 ┆ 1028   ┆ 192.6405 ┆ AAPL   │\n",
      "│ 2024-06-03 04:02:00 ┆ 192.68 ┆ 192.7  ┆ 192.68 ┆ 192.7  ┆ 6174   ┆ 192.7006 ┆ AAPL   │\n",
      "│ 2024-06-03 04:03:00 ┆ 192.73 ┆ 192.78 ┆ 192.73 ┆ 192.74 ┆ 2982   ┆ 192.7456 ┆ AAPL   │\n",
      "│ 2024-06-03 04:04:00 ┆ 192.77 ┆ 193.0  ┆ 192.77 ┆ 193.0  ┆ 13024  ┆ 192.8495 ┆ AAPL   │\n",
      "└─────────────────────┴────────┴────────┴────────┴────────┴────────┴──────────┴────────┘\n",
      "Shape: (15147, 8)\n",
      "Date range: 2024-06-03 04:00:00 to 2024-06-28 19:59:00\n",
      "\n",
      "📊 MSFT Data Sample:\n",
      "shape: (5, 8)\n",
      "┌─────────────────────┬────────┬────────┬────────┬────────┬────────┬──────────┬────────┐\n",
      "│ timestamp           ┆ open   ┆ high   ┆ low    ┆ close  ┆ volume ┆ vwap     ┆ symbol │\n",
      "│ ---                 ┆ ---    ┆ ---    ┆ ---    ┆ ---    ┆ ---    ┆ ---      ┆ ---    │\n",
      "│ datetime[μs]        ┆ f64    ┆ f64    ┆ f64    ┆ f64    ┆ i64    ┆ f64      ┆ str    │\n",
      "╞═════════════════════╪════════╪════════╪════════╪════════╪════════╪══════════╪════════╡\n",
      "│ 2024-06-03 04:00:00 ┆ 416.5  ┆ 416.5  ┆ 416.5  ┆ 416.5  ┆ 1264   ┆ 416.4416 ┆ MSFT   │\n",
      "│ 2024-06-03 04:02:00 ┆ 416.0  ┆ 416.0  ┆ 416.0  ┆ 416.0  ┆ 2389   ┆ 415.9999 ┆ MSFT   │\n",
      "│ 2024-06-03 04:03:00 ┆ 416.0  ┆ 416.0  ┆ 416.0  ┆ 416.0  ┆ 652    ┆ 416.0195 ┆ MSFT   │\n",
      "│ 2024-06-03 04:05:00 ┆ 416.4  ┆ 416.4  ┆ 416.4  ┆ 416.4  ┆ 772    ┆ 416.4004 ┆ MSFT   │\n",
      "│ 2024-06-03 04:06:00 ┆ 416.49 ┆ 416.49 ┆ 416.49 ┆ 416.49 ┆ 627    ┆ 416.4405 ┆ MSFT   │\n",
      "└─────────────────────┴────────┴────────┴────────┴────────┴────────┴──────────┴────────┘\n",
      "Shape: (11077, 8)\n",
      "Date range: 2024-06-03 04:00:00 to 2024-06-28 19:55:00\n",
      "\n",
      "📊 GOOG Data Sample:\n",
      "shape: (5, 8)\n",
      "┌─────────────────────┬────────┬────────┬────────┬────────┬────────┬──────────┬────────┐\n",
      "│ timestamp           ┆ open   ┆ high   ┆ low    ┆ close  ┆ volume ┆ vwap     ┆ symbol │\n",
      "│ ---                 ┆ ---    ┆ ---    ┆ ---    ┆ ---    ┆ ---    ┆ ---      ┆ ---    │\n",
      "│ datetime[μs]        ┆ f64    ┆ f64    ┆ f64    ┆ f64    ┆ i64    ┆ f64      ┆ str    │\n",
      "╞═════════════════════╪════════╪════════╪════════╪════════╪════════╪══════════╪════════╡\n",
      "│ 2024-06-03 04:03:00 ┆ 174.15 ┆ 174.31 ┆ 174.15 ┆ 174.31 ┆ 707    ┆ 174.2501 ┆ GOOG   │\n",
      "│ 2024-06-03 04:04:00 ┆ 174.2  ┆ 174.2  ┆ 174.19 ┆ 174.19 ┆ 581    ┆ 174.2016 ┆ GOOG   │\n",
      "│ 2024-06-03 04:05:00 ┆ 174.19 ┆ 174.19 ┆ 174.19 ┆ 174.19 ┆ 445    ┆ 174.1233 ┆ GOOG   │\n",
      "│ 2024-06-03 04:10:00 ┆ 174.2  ┆ 174.39 ┆ 174.2  ┆ 174.38 ┆ 2032   ┆ 174.2505 ┆ GOOG   │\n",
      "│ 2024-06-03 04:11:00 ┆ 174.4  ┆ 174.4  ┆ 174.38 ┆ 174.38 ┆ 617    ┆ 174.3896 ┆ GOOG   │\n",
      "└─────────────────────┴────────┴────────┴────────┴────────┴────────┴──────────┴────────┘\n",
      "Shape: (10252, 8)\n",
      "Date range: 2024-06-03 04:03:00 to 2024-06-28 19:59:00\n"
     ]
    }
   ],
   "source": [
    "def get_stock_data_polygon(api_key, symbols=[\"AAPL\", \"MSFT\", \"GOOG\"], start_date=\"2024-06-01\", end_date=\"2024-06-30\"):\n",
    "    \"\"\"\n",
    "    Fetch stock data using Polygon REST client for multiple symbols\n",
    "    \n",
    "    Args:\n",
    "        api_key (str): Polygon API key\n",
    "        symbols (list): List of stock symbols to fetch\n",
    "        start_date (str): Start date in YYYY-MM-DD format\n",
    "        end_date (str): End date in YYYY-MM-DD format\n",
    "    \n",
    "    Returns:\n",
    "        dict: Dictionary with symbol as key and Polars DataFrame as value\n",
    "    \"\"\"\n",
    "    client = RESTClient(api_key)\n",
    "    stock_data = {}\n",
    "    \n",
    "    for symbol in symbols:\n",
    "        try:\n",
    "            # Get aggregates (bars) data\n",
    "            aggs = client.get_aggs(\n",
    "                ticker=symbol,\n",
    "                multiplier=1,\n",
    "                timespan=\"minute\",\n",
    "                from_=start_date,\n",
    "                to=end_date,\n",
    "                limit=50000\n",
    "            )\n",
    "            \n",
    "            # Convert to list of dictionaries\n",
    "            data_list = []\n",
    "            for agg in aggs:\n",
    "                data_list.append({\n",
    "                    \"timestamp\": datetime.fromtimestamp(agg.timestamp / 1000),\n",
    "                    \"open\": agg.open,\n",
    "                    \"high\": agg.high,\n",
    "                    \"low\": agg.low,\n",
    "                    \"close\": agg.close,\n",
    "                    \"volume\": agg.volume,\n",
    "                    \"vwap\": agg.vwap,\n",
    "                    \"symbol\": symbol\n",
    "                })\n",
    "            \n",
    "            # Create Polars DataFrame\n",
    "            if data_list:\n",
    "                df = pl.DataFrame(data_list)\n",
    "                # Sort by timestamp\n",
    "                df = df.sort(\"timestamp\")\n",
    "                stock_data[symbol] = df\n",
    "                print(f\"✅ Successfully fetched {len(df)} records for {symbol}\")\n",
    "            else:\n",
    "                print(f\"❌ No data found for {symbol}\")\n",
    "                \n",
    "        except Exception as e:\n",
    "            print(f\"❌ Error fetching data for {symbol}: {str(e)}\")\n",
    "    \n",
    "    return stock_data\n",
    "\n",
    "# Example usage:\n",
    "api_key = \"8XvjiWID5oKnXHWl2O0n7Pc6iyAoyKG3\"  # Your Polygon API key\n",
    "stock_data = get_stock_data_polygon(api_key)\n",
    "\n",
    "# Display sample data for each symbol\n",
    "for symbol, df in stock_data.items():\n",
    "    print(f\"\\n📊 {symbol} Data Sample:\")\n",
    "    print(df.head())\n",
    "    print(f\"Shape: {df.shape}\")\n",
    "    print(f\"Date range: {df['timestamp'].min()} to {df['timestamp'].max()}\")"
   ]
  },
  {
   "cell_type": "code",
   "execution_count": 7,
   "id": "57e3b19e",
   "metadata": {},
   "outputs": [
    {
     "name": "stdout",
     "output_type": "stream",
     "text": [
      "📈 Combined DataFrame shape: (36476, 8)\n",
      "Symbols included: ['GOOG', 'MSFT', 'AAPL']\n"
     ]
    }
   ],
   "source": [
    "# Combine all stock data into a single DataFrame\n",
    "def combine_stock_data(stock_data):\n",
    "    \"\"\"\n",
    "    Combine multiple stock DataFrames into a single DataFrame\n",
    "    \n",
    "    Args:\n",
    "        stock_data (dict): Dictionary with symbol as key and DataFrame as value\n",
    "    \n",
    "    Returns:\n",
    "        pl.DataFrame: Combined DataFrame with all stocks\n",
    "    \"\"\"\n",
    "    combined_dfs = []\n",
    "    for symbol, df in stock_data.items():\n",
    "        combined_dfs.append(df)\n",
    "    \n",
    "    if combined_dfs:\n",
    "        return pl.concat(combined_dfs)\n",
    "    else:\n",
    "        return pl.DataFrame()\n",
    "\n",
    "# Combine the data\n",
    "combined_df = combine_stock_data(stock_data)\n",
    "print(f\"📈 Combined DataFrame shape: {combined_df.shape}\")\n",
    "print(f\"Symbols included: {combined_df['symbol'].unique().to_list()}\")\n"
   ]
  },
  {
   "cell_type": "code",
   "execution_count": 8,
   "id": "ceaba602",
   "metadata": {},
   "outputs": [
    {
     "data": {
      "text/html": [
       "<div><style>\n",
       ".dataframe > thead > tr,\n",
       ".dataframe > tbody > tr {\n",
       "  text-align: right;\n",
       "  white-space: pre-wrap;\n",
       "}\n",
       "</style>\n",
       "<small>shape: (36_476, 11)</small><table border=\"1\" class=\"dataframe\"><thead><tr><th>timestamp</th><th>open</th><th>high</th><th>low</th><th>close</th><th>volume</th><th>vwap</th><th>symbol</th><th>ema5</th><th>macd</th><th>macdsignal</th></tr><tr><td>datetime[μs]</td><td>f64</td><td>f64</td><td>f64</td><td>f64</td><td>i64</td><td>f64</td><td>str</td><td>f64</td><td>f64</td><td>f64</td></tr></thead><tbody><tr><td>2024-06-03 04:00:00</td><td>192.45</td><td>193.14</td><td>192.45</td><td>192.77</td><td>3376</td><td>192.8161</td><td>&quot;AAPL&quot;</td><td>NaN</td><td>NaN</td><td>NaN</td></tr><tr><td>2024-06-03 04:01:00</td><td>192.69</td><td>192.69</td><td>192.69</td><td>192.69</td><td>1028</td><td>192.6405</td><td>&quot;AAPL&quot;</td><td>NaN</td><td>NaN</td><td>NaN</td></tr><tr><td>2024-06-03 04:02:00</td><td>192.68</td><td>192.7</td><td>192.68</td><td>192.7</td><td>6174</td><td>192.7006</td><td>&quot;AAPL&quot;</td><td>NaN</td><td>NaN</td><td>NaN</td></tr><tr><td>2024-06-03 04:03:00</td><td>192.73</td><td>192.78</td><td>192.73</td><td>192.74</td><td>2982</td><td>192.7456</td><td>&quot;AAPL&quot;</td><td>NaN</td><td>NaN</td><td>NaN</td></tr><tr><td>2024-06-03 04:04:00</td><td>192.77</td><td>193.0</td><td>192.77</td><td>193.0</td><td>13024</td><td>192.8495</td><td>&quot;AAPL&quot;</td><td>192.78</td><td>NaN</td><td>NaN</td></tr><tr><td>&hellip;</td><td>&hellip;</td><td>&hellip;</td><td>&hellip;</td><td>&hellip;</td><td>&hellip;</td><td>&hellip;</td><td>&hellip;</td><td>&hellip;</td><td>&hellip;</td><td>&hellip;</td></tr><tr><td>2024-06-28 19:54:00</td><td>183.95</td><td>183.95</td><td>183.95</td><td>183.95</td><td>745</td><td>183.9502</td><td>&quot;GOOG&quot;</td><td>183.937732</td><td>0.025627</td><td>0.021646</td></tr><tr><td>2024-06-28 19:56:00</td><td>183.91</td><td>183.91</td><td>183.91</td><td>183.91</td><td>247</td><td>183.9203</td><td>&quot;GOOG&quot;</td><td>183.928488</td><td>0.023129</td><td>0.021942</td></tr><tr><td>2024-06-28 19:57:00</td><td>183.95</td><td>183.96</td><td>183.95</td><td>183.96</td><td>636</td><td>183.9394</td><td>&quot;GOOG&quot;</td><td>183.938992</td><td>0.024897</td><td>0.022533</td></tr><tr><td>2024-06-28 19:58:00</td><td>183.95</td><td>183.95</td><td>183.95</td><td>183.95</td><td>325</td><td>183.9524</td><td>&quot;GOOG&quot;</td><td>183.942661</td><td>0.0252</td><td>0.023067</td></tr><tr><td>2024-06-28 19:59:00</td><td>183.96</td><td>183.96</td><td>183.95</td><td>183.95</td><td>1075</td><td>183.9533</td><td>&quot;GOOG&quot;</td><td>183.945107</td><td>0.025151</td><td>0.023483</td></tr></tbody></table></div>"
      ],
      "text/plain": [
       "shape: (36_476, 11)\n",
       "┌─────────────────────┬────────┬────────┬────────┬───┬────────┬────────────┬──────────┬────────────┐\n",
       "│ timestamp           ┆ open   ┆ high   ┆ low    ┆ … ┆ symbol ┆ ema5       ┆ macd     ┆ macdsignal │\n",
       "│ ---                 ┆ ---    ┆ ---    ┆ ---    ┆   ┆ ---    ┆ ---        ┆ ---      ┆ ---        │\n",
       "│ datetime[μs]        ┆ f64    ┆ f64    ┆ f64    ┆   ┆ str    ┆ f64        ┆ f64      ┆ f64        │\n",
       "╞═════════════════════╪════════╪════════╪════════╪═══╪════════╪════════════╪══════════╪════════════╡\n",
       "│ 2024-06-03 04:00:00 ┆ 192.45 ┆ 193.14 ┆ 192.45 ┆ … ┆ AAPL   ┆ NaN        ┆ NaN      ┆ NaN        │\n",
       "│ 2024-06-03 04:01:00 ┆ 192.69 ┆ 192.69 ┆ 192.69 ┆ … ┆ AAPL   ┆ NaN        ┆ NaN      ┆ NaN        │\n",
       "│ 2024-06-03 04:02:00 ┆ 192.68 ┆ 192.7  ┆ 192.68 ┆ … ┆ AAPL   ┆ NaN        ┆ NaN      ┆ NaN        │\n",
       "│ 2024-06-03 04:03:00 ┆ 192.73 ┆ 192.78 ┆ 192.73 ┆ … ┆ AAPL   ┆ NaN        ┆ NaN      ┆ NaN        │\n",
       "│ 2024-06-03 04:04:00 ┆ 192.77 ┆ 193.0  ┆ 192.77 ┆ … ┆ AAPL   ┆ 192.78     ┆ NaN      ┆ NaN        │\n",
       "│ …                   ┆ …      ┆ …      ┆ …      ┆ … ┆ …      ┆ …          ┆ …        ┆ …          │\n",
       "│ 2024-06-28 19:54:00 ┆ 183.95 ┆ 183.95 ┆ 183.95 ┆ … ┆ GOOG   ┆ 183.937732 ┆ 0.025627 ┆ 0.021646   │\n",
       "│ 2024-06-28 19:56:00 ┆ 183.91 ┆ 183.91 ┆ 183.91 ┆ … ┆ GOOG   ┆ 183.928488 ┆ 0.023129 ┆ 0.021942   │\n",
       "│ 2024-06-28 19:57:00 ┆ 183.95 ┆ 183.96 ┆ 183.95 ┆ … ┆ GOOG   ┆ 183.938992 ┆ 0.024897 ┆ 0.022533   │\n",
       "│ 2024-06-28 19:58:00 ┆ 183.95 ┆ 183.95 ┆ 183.95 ┆ … ┆ GOOG   ┆ 183.942661 ┆ 0.0252   ┆ 0.023067   │\n",
       "│ 2024-06-28 19:59:00 ┆ 183.96 ┆ 183.96 ┆ 183.95 ┆ … ┆ GOOG   ┆ 183.945107 ┆ 0.025151 ┆ 0.023483   │\n",
       "└─────────────────────┴────────┴────────┴────────┴───┴────────┴────────────┴──────────┴────────────┘"
      ]
     },
     "execution_count": 8,
     "metadata": {},
     "output_type": "execute_result"
    }
   ],
   "source": [
    "combined_df.with_columns(\n",
    "    pl.col(\"close\").ta.ema(5).over(\"symbol\").alias(\"ema5\"),\n",
    "    pl.col(\"close\").ta.macd(12, 26, 9).over(\"symbol\").struct.field(\"macd\"),\n",
    "    pl.col(\"close\").ta.macd(12, 26, 9).over(\"symbol\").struct.field(\"macdsignal\")\n",
    ")"
   ]
  },
  {
   "cell_type": "code",
   "execution_count": 9,
   "id": "c3741325",
   "metadata": {},
   "outputs": [
    {
     "data": {
      "text/html": [
       "<div><style>\n",
       ".dataframe > thead > tr,\n",
       ".dataframe > tbody > tr {\n",
       "  text-align: right;\n",
       "  white-space: pre-wrap;\n",
       "}\n",
       "</style>\n",
       "<small>shape: (36_476, 10)</small><table border=\"1\" class=\"dataframe\"><thead><tr><th>timestamp</th><th>open</th><th>high</th><th>low</th><th>close</th><th>volume</th><th>vwap</th><th>symbol</th><th>bbands</th><th>rsi</th></tr><tr><td>datetime[μs]</td><td>f64</td><td>f64</td><td>f64</td><td>f64</td><td>i64</td><td>f64</td><td>str</td><td>struct[3]</td><td>f64</td></tr></thead><tbody><tr><td>2024-06-03 04:00:00</td><td>192.45</td><td>193.14</td><td>192.45</td><td>192.77</td><td>3376</td><td>192.8161</td><td>&quot;AAPL&quot;</td><td>{NaN,NaN,NaN}</td><td>NaN</td></tr><tr><td>2024-06-03 04:01:00</td><td>192.69</td><td>192.69</td><td>192.69</td><td>192.69</td><td>1028</td><td>192.6405</td><td>&quot;AAPL&quot;</td><td>{NaN,NaN,NaN}</td><td>NaN</td></tr><tr><td>2024-06-03 04:02:00</td><td>192.68</td><td>192.7</td><td>192.68</td><td>192.7</td><td>6174</td><td>192.7006</td><td>&quot;AAPL&quot;</td><td>{NaN,NaN,NaN}</td><td>NaN</td></tr><tr><td>2024-06-03 04:03:00</td><td>192.73</td><td>192.78</td><td>192.73</td><td>192.74</td><td>2982</td><td>192.7456</td><td>&quot;AAPL&quot;</td><td>{NaN,NaN,NaN}</td><td>NaN</td></tr><tr><td>2024-06-03 04:04:00</td><td>192.77</td><td>193.0</td><td>192.77</td><td>193.0</td><td>13024</td><td>192.8495</td><td>&quot;AAPL&quot;</td><td>{NaN,NaN,NaN}</td><td>NaN</td></tr><tr><td>&hellip;</td><td>&hellip;</td><td>&hellip;</td><td>&hellip;</td><td>&hellip;</td><td>&hellip;</td><td>&hellip;</td><td>&hellip;</td><td>&hellip;</td><td>&hellip;</td></tr><tr><td>2024-06-28 19:54:00</td><td>183.95</td><td>183.95</td><td>183.95</td><td>183.95</td><td>745</td><td>183.9502</td><td>&quot;GOOG&quot;</td><td>{184.010061,183.891995,183.773929}</td><td>54.42429</td></tr><tr><td>2024-06-28 19:56:00</td><td>183.91</td><td>183.91</td><td>183.91</td><td>183.91</td><td>247</td><td>183.9203</td><td>&quot;GOOG&quot;</td><td>{184.003072,183.898995,183.794918}</td><td>51.370453</td></tr><tr><td>2024-06-28 19:57:00</td><td>183.95</td><td>183.96</td><td>183.95</td><td>183.96</td><td>636</td><td>183.9394</td><td>&quot;GOOG&quot;</td><td>{184.003744,183.906995,183.810246}</td><td>54.785711</td></tr><tr><td>2024-06-28 19:58:00</td><td>183.95</td><td>183.95</td><td>183.95</td><td>183.95</td><td>325</td><td>183.9524</td><td>&quot;GOOG&quot;</td><td>{184.00791,183.910995,183.81408}</td><td>53.969345</td></tr><tr><td>2024-06-28 19:59:00</td><td>183.96</td><td>183.96</td><td>183.95</td><td>183.95</td><td>1075</td><td>183.9533</td><td>&quot;GOOG&quot;</td><td>{184.010083,183.915995,183.821907}</td><td>53.969345</td></tr></tbody></table></div>"
      ],
      "text/plain": [
       "shape: (36_476, 10)\n",
       "┌──────────────┬────────┬────────┬────────┬───┬──────────┬────────┬────────────────────┬───────────┐\n",
       "│ timestamp    ┆ open   ┆ high   ┆ low    ┆ … ┆ vwap     ┆ symbol ┆ bbands             ┆ rsi       │\n",
       "│ ---          ┆ ---    ┆ ---    ┆ ---    ┆   ┆ ---      ┆ ---    ┆ ---                ┆ ---       │\n",
       "│ datetime[μs] ┆ f64    ┆ f64    ┆ f64    ┆   ┆ f64      ┆ str    ┆ struct[3]          ┆ f64       │\n",
       "╞══════════════╪════════╪════════╪════════╪═══╪══════════╪════════╪════════════════════╪═══════════╡\n",
       "│ 2024-06-03   ┆ 192.45 ┆ 193.14 ┆ 192.45 ┆ … ┆ 192.8161 ┆ AAPL   ┆ {NaN,NaN,NaN}      ┆ NaN       │\n",
       "│ 04:00:00     ┆        ┆        ┆        ┆   ┆          ┆        ┆                    ┆           │\n",
       "│ 2024-06-03   ┆ 192.69 ┆ 192.69 ┆ 192.69 ┆ … ┆ 192.6405 ┆ AAPL   ┆ {NaN,NaN,NaN}      ┆ NaN       │\n",
       "│ 04:01:00     ┆        ┆        ┆        ┆   ┆          ┆        ┆                    ┆           │\n",
       "│ 2024-06-03   ┆ 192.68 ┆ 192.7  ┆ 192.68 ┆ … ┆ 192.7006 ┆ AAPL   ┆ {NaN,NaN,NaN}      ┆ NaN       │\n",
       "│ 04:02:00     ┆        ┆        ┆        ┆   ┆          ┆        ┆                    ┆           │\n",
       "│ 2024-06-03   ┆ 192.73 ┆ 192.78 ┆ 192.73 ┆ … ┆ 192.7456 ┆ AAPL   ┆ {NaN,NaN,NaN}      ┆ NaN       │\n",
       "│ 04:03:00     ┆        ┆        ┆        ┆   ┆          ┆        ┆                    ┆           │\n",
       "│ 2024-06-03   ┆ 192.77 ┆ 193.0  ┆ 192.77 ┆ … ┆ 192.8495 ┆ AAPL   ┆ {NaN,NaN,NaN}      ┆ NaN       │\n",
       "│ 04:04:00     ┆        ┆        ┆        ┆   ┆          ┆        ┆                    ┆           │\n",
       "│ …            ┆ …      ┆ …      ┆ …      ┆ … ┆ …        ┆ …      ┆ …                  ┆ …         │\n",
       "│ 2024-06-28   ┆ 183.95 ┆ 183.95 ┆ 183.95 ┆ … ┆ 183.9502 ┆ GOOG   ┆ {184.010061,183.89 ┆ 54.42429  │\n",
       "│ 19:54:00     ┆        ┆        ┆        ┆   ┆          ┆        ┆ 1995,183.773…      ┆           │\n",
       "│ 2024-06-28   ┆ 183.91 ┆ 183.91 ┆ 183.91 ┆ … ┆ 183.9203 ┆ GOOG   ┆ {184.003072,183.89 ┆ 51.370453 │\n",
       "│ 19:56:00     ┆        ┆        ┆        ┆   ┆          ┆        ┆ 8995,183.794…      ┆           │\n",
       "│ 2024-06-28   ┆ 183.95 ┆ 183.96 ┆ 183.95 ┆ … ┆ 183.9394 ┆ GOOG   ┆ {184.003744,183.90 ┆ 54.785711 │\n",
       "│ 19:57:00     ┆        ┆        ┆        ┆   ┆          ┆        ┆ 6995,183.810…      ┆           │\n",
       "│ 2024-06-28   ┆ 183.95 ┆ 183.95 ┆ 183.95 ┆ … ┆ 183.9524 ┆ GOOG   ┆ {184.00791,183.910 ┆ 53.969345 │\n",
       "│ 19:58:00     ┆        ┆        ┆        ┆   ┆          ┆        ┆ 995,183.8140…      ┆           │\n",
       "│ 2024-06-28   ┆ 183.96 ┆ 183.96 ┆ 183.95 ┆ … ┆ 183.9533 ┆ GOOG   ┆ {184.010083,183.91 ┆ 53.969345 │\n",
       "│ 19:59:00     ┆        ┆        ┆        ┆   ┆          ┆        ┆ 5995,183.821…      ┆           │\n",
       "└──────────────┴────────┴────────┴────────┴───┴──────────┴────────┴────────────────────┴───────────┘"
      ]
     },
     "execution_count": 9,
     "metadata": {},
     "output_type": "execute_result"
    }
   ],
   "source": [
    "combined_df.with_columns(\n",
    "    [plta.bbands(\n",
    "        pl.col(\"close\"),\n",
    "        timeperiod=20,\n",
    "        nbdevup=2,\n",
    "        nbdevdn=2,\n",
    "        matype=0\n",
    "    ).over(\"symbol\").alias(\"bbands\"),\n",
    "    plta.rsi(\n",
    "        pl.col(\"close\"),\n",
    "        timeperiod=14\n",
    "    ).over(\"symbol\").alias(\"rsi\"),\n",
    "    ]\n",
    ")"
   ]
  },
  {
   "cell_type": "code",
   "execution_count": 10,
   "id": "254014fc",
   "metadata": {},
   "outputs": [],
   "source": [
    "# Create a sample DataFrame with OHLCV data\n",
    "df = pl.DataFrame({\n",
    "    'symbol': ['AAPL'] * 100,\n",
    "    'open': [100 + i for i in range(100)],\n",
    "    'high': [101 + i for i in range(100)],\n",
    "    'low': [99 + i for i in range(100)],\n",
    "    'close': [100 + i for i in range(100)],\n",
    "    'volume': [1000000 + i*1000 for i in range(100)]\n",
    "})\n",
    "\n",
    "# Initialize the factory\n",
    "factory = IndicatorFactory(combined_df)\n",
    "\n",
    "# Get DataFrame with all indicators\n",
    "result_df = factory.get_indicators()"
   ]
  },
  {
   "cell_type": "code",
   "execution_count": 11,
   "id": "f592bc14",
   "metadata": {},
   "outputs": [
    {
     "data": {
      "text/html": [
       "<div><style>\n",
       ".dataframe > thead > tr,\n",
       ".dataframe > tbody > tr {\n",
       "  text-align: right;\n",
       "  white-space: pre-wrap;\n",
       "}\n",
       "</style>\n",
       "<small>shape: (36_476, 35)</small><table border=\"1\" class=\"dataframe\"><thead><tr><th>timestamp</th><th>open</th><th>high</th><th>low</th><th>close</th><th>volume</th><th>vwap</th><th>symbol</th><th>sma_20</th><th>ema_20</th><th>rsi</th><th>bb_upper</th><th>bb_middle</th><th>bb_lower</th><th>atr</th><th>adx</th><th>obv</th><th>mfi</th><th>cci</th><th>vwap_calc</th><th>timestamp_prev</th><th>close_prev</th><th>symbol_prev</th><th>sma_20_prev</th><th>ema_20_prev</th><th>rsi_prev</th><th>bb_upper_prev</th><th>bb_middle_prev</th><th>bb_lower_prev</th><th>atr_prev</th><th>adx_prev</th><th>obv_prev</th><th>mfi_prev</th><th>cci_prev</th><th>vwap_calc_prev</th></tr><tr><td>datetime[μs]</td><td>f64</td><td>f64</td><td>f64</td><td>f64</td><td>i64</td><td>f64</td><td>str</td><td>f64</td><td>f64</td><td>f64</td><td>f64</td><td>f64</td><td>f64</td><td>f64</td><td>f64</td><td>f64</td><td>f64</td><td>f64</td><td>f64</td><td>datetime[μs]</td><td>f64</td><td>str</td><td>f64</td><td>f64</td><td>f64</td><td>f64</td><td>f64</td><td>f64</td><td>f64</td><td>f64</td><td>f64</td><td>f64</td><td>f64</td><td>f64</td></tr></thead><tbody><tr><td>2024-06-03 04:00:00</td><td>192.45</td><td>193.14</td><td>192.45</td><td>192.77</td><td>3376</td><td>192.8161</td><td>&quot;AAPL&quot;</td><td>NaN</td><td>NaN</td><td>NaN</td><td>NaN</td><td>NaN</td><td>NaN</td><td>NaN</td><td>NaN</td><td>3376.0</td><td>NaN</td><td>NaN</td><td>192.77</td><td>null</td><td>null</td><td>null</td><td>null</td><td>null</td><td>null</td><td>null</td><td>null</td><td>null</td><td>null</td><td>null</td><td>null</td><td>null</td><td>null</td><td>null</td></tr><tr><td>2024-06-03 04:01:00</td><td>192.69</td><td>192.69</td><td>192.69</td><td>192.69</td><td>1028</td><td>192.6405</td><td>&quot;AAPL&quot;</td><td>NaN</td><td>NaN</td><td>NaN</td><td>NaN</td><td>NaN</td><td>NaN</td><td>NaN</td><td>NaN</td><td>2348.0</td><td>NaN</td><td>NaN</td><td>192.751326</td><td>2024-06-03 04:00:00</td><td>192.77</td><td>&quot;AAPL&quot;</td><td>NaN</td><td>NaN</td><td>NaN</td><td>NaN</td><td>NaN</td><td>NaN</td><td>NaN</td><td>NaN</td><td>3376.0</td><td>NaN</td><td>NaN</td><td>192.77</td></tr><tr><td>2024-06-03 04:02:00</td><td>192.68</td><td>192.7</td><td>192.68</td><td>192.7</td><td>6174</td><td>192.7006</td><td>&quot;AAPL&quot;</td><td>NaN</td><td>NaN</td><td>NaN</td><td>NaN</td><td>NaN</td><td>NaN</td><td>NaN</td><td>NaN</td><td>8522.0</td><td>NaN</td><td>NaN</td><td>192.721369</td><td>2024-06-03 04:01:00</td><td>192.69</td><td>&quot;AAPL&quot;</td><td>NaN</td><td>NaN</td><td>NaN</td><td>NaN</td><td>NaN</td><td>NaN</td><td>NaN</td><td>NaN</td><td>2348.0</td><td>NaN</td><td>NaN</td><td>192.751326</td></tr><tr><td>2024-06-03 04:03:00</td><td>192.73</td><td>192.78</td><td>192.73</td><td>192.74</td><td>2982</td><td>192.7456</td><td>&quot;AAPL&quot;</td><td>NaN</td><td>NaN</td><td>NaN</td><td>NaN</td><td>NaN</td><td>NaN</td><td>NaN</td><td>NaN</td><td>11504.0</td><td>NaN</td><td>NaN</td><td>192.725466</td><td>2024-06-03 04:02:00</td><td>192.7</td><td>&quot;AAPL&quot;</td><td>NaN</td><td>NaN</td><td>NaN</td><td>NaN</td><td>NaN</td><td>NaN</td><td>NaN</td><td>NaN</td><td>8522.0</td><td>NaN</td><td>NaN</td><td>192.721369</td></tr><tr><td>2024-06-03 04:04:00</td><td>192.77</td><td>193.0</td><td>192.77</td><td>193.0</td><td>13024</td><td>192.8495</td><td>&quot;AAPL&quot;</td><td>NaN</td><td>NaN</td><td>NaN</td><td>NaN</td><td>NaN</td><td>NaN</td><td>NaN</td><td>NaN</td><td>24528.0</td><td>NaN</td><td>NaN</td><td>192.859965</td><td>2024-06-03 04:03:00</td><td>192.74</td><td>&quot;AAPL&quot;</td><td>NaN</td><td>NaN</td><td>NaN</td><td>NaN</td><td>NaN</td><td>NaN</td><td>NaN</td><td>NaN</td><td>11504.0</td><td>NaN</td><td>NaN</td><td>192.725466</td></tr><tr><td>&hellip;</td><td>&hellip;</td><td>&hellip;</td><td>&hellip;</td><td>&hellip;</td><td>&hellip;</td><td>&hellip;</td><td>&hellip;</td><td>&hellip;</td><td>&hellip;</td><td>&hellip;</td><td>&hellip;</td><td>&hellip;</td><td>&hellip;</td><td>&hellip;</td><td>&hellip;</td><td>&hellip;</td><td>&hellip;</td><td>&hellip;</td><td>&hellip;</td><td>&hellip;</td><td>&hellip;</td><td>&hellip;</td><td>&hellip;</td><td>&hellip;</td><td>&hellip;</td><td>&hellip;</td><td>&hellip;</td><td>&hellip;</td><td>&hellip;</td><td>&hellip;</td><td>&hellip;</td><td>&hellip;</td><td>&hellip;</td><td>&hellip;</td></tr><tr><td>2024-06-28 19:54:00</td><td>183.95</td><td>183.95</td><td>183.95</td><td>183.95</td><td>745</td><td>183.9502</td><td>&quot;GOOG&quot;</td><td>183.891995</td><td>183.901757</td><td>54.42429</td><td>184.010061</td><td>183.891995</td><td>183.773929</td><td>0.054271</td><td>12.211181</td><td>9.284436e6</td><td>46.675952</td><td>86.302971</td><td>183.944876</td><td>2024-06-28 19:52:00</td><td>183.95</td><td>&quot;GOOG&quot;</td><td>183.897985</td><td>183.896679</td><td>54.42429</td><td>184.037435</td><td>183.897985</td><td>183.758535</td><td>0.058445</td><td>11.860619</td><td>9.284436e6</td><td>51.319611</td><td>72.250208</td><td>183.938358</td></tr><tr><td>2024-06-28 19:56:00</td><td>183.91</td><td>183.91</td><td>183.91</td><td>183.91</td><td>247</td><td>183.9203</td><td>&quot;GOOG&quot;</td><td>183.898995</td><td>183.902542</td><td>51.370453</td><td>184.003072</td><td>183.898995</td><td>183.794918</td><td>0.053251</td><td>12.018601</td><td>9.284189e6</td><td>43.264424</td><td>21.150001</td><td>183.948494</td><td>2024-06-28 19:54:00</td><td>183.95</td><td>&quot;GOOG&quot;</td><td>183.891995</td><td>183.901757</td><td>54.42429</td><td>184.010061</td><td>183.891995</td><td>183.773929</td><td>0.054271</td><td>12.211181</td><td>9.284436e6</td><td>46.675952</td><td>86.302971</td><td>183.944876</td></tr><tr><td>2024-06-28 19:57:00</td><td>183.95</td><td>183.96</td><td>183.95</td><td>183.96</td><td>636</td><td>183.9394</td><td>&quot;GOOG&quot;</td><td>183.906995</td><td>183.908014</td><td>54.785711</td><td>184.003744</td><td>183.906995</td><td>183.810246</td><td>0.053019</td><td>12.338527</td><td>9.284825e6</td><td>50.871007</td><td>86.392168</td><td>183.951277</td><td>2024-06-28 19:56:00</td><td>183.91</td><td>&quot;GOOG&quot;</td><td>183.898995</td><td>183.902542</td><td>51.370453</td><td>184.003072</td><td>183.898995</td><td>183.794918</td><td>0.053251</td><td>12.018601</td><td>9.284189e6</td><td>43.264424</td><td>21.150001</td><td>183.948494</td></tr><tr><td>2024-06-28 19:58:00</td><td>183.95</td><td>183.95</td><td>183.95</td><td>183.95</td><td>325</td><td>183.9524</td><td>&quot;GOOG&quot;</td><td>183.910995</td><td>183.912013</td><td>53.969345</td><td>184.00791</td><td>183.910995</td><td>183.81408</td><td>0.049946</td><td>12.635601</td><td>9.2845e6</td><td>38.385134</td><td>67.770582</td><td>183.948669</td><td>2024-06-28 19:57:00</td><td>183.96</td><td>&quot;GOOG&quot;</td><td>183.906995</td><td>183.908014</td><td>54.785711</td><td>184.003744</td><td>183.906995</td><td>183.810246</td><td>0.053019</td><td>12.338527</td><td>9.284825e6</td><td>50.871007</td><td>86.392168</td><td>183.951277</td></tr><tr><td>2024-06-28 19:59:00</td><td>183.96</td><td>183.96</td><td>183.95</td><td>183.95</td><td>1075</td><td>183.9533</td><td>&quot;GOOG&quot;</td><td>183.915995</td><td>183.915631</td><td>53.969345</td><td>184.010083</td><td>183.915995</td><td>183.821907</td><td>0.047093</td><td>13.016338</td><td>9.2845e6</td><td>48.845126</td><td>66.124436</td><td>183.948838</td><td>2024-06-28 19:58:00</td><td>183.95</td><td>&quot;GOOG&quot;</td><td>183.910995</td><td>183.912013</td><td>53.969345</td><td>184.00791</td><td>183.910995</td><td>183.81408</td><td>0.049946</td><td>12.635601</td><td>9.2845e6</td><td>38.385134</td><td>67.770582</td><td>183.948669</td></tr></tbody></table></div>"
      ],
      "text/plain": [
       "shape: (36_476, 35)\n",
       "┌───────────────┬────────┬────────┬────────┬───┬────────────┬───────────┬───────────┬──────────────┐\n",
       "│ timestamp     ┆ open   ┆ high   ┆ low    ┆ … ┆ obv_prev   ┆ mfi_prev  ┆ cci_prev  ┆ vwap_calc_pr │\n",
       "│ ---           ┆ ---    ┆ ---    ┆ ---    ┆   ┆ ---        ┆ ---       ┆ ---       ┆ ev           │\n",
       "│ datetime[μs]  ┆ f64    ┆ f64    ┆ f64    ┆   ┆ f64        ┆ f64       ┆ f64       ┆ ---          │\n",
       "│               ┆        ┆        ┆        ┆   ┆            ┆           ┆           ┆ f64          │\n",
       "╞═══════════════╪════════╪════════╪════════╪═══╪════════════╪═══════════╪═══════════╪══════════════╡\n",
       "│ 2024-06-03    ┆ 192.45 ┆ 193.14 ┆ 192.45 ┆ … ┆ null       ┆ null      ┆ null      ┆ null         │\n",
       "│ 04:00:00      ┆        ┆        ┆        ┆   ┆            ┆           ┆           ┆              │\n",
       "│ 2024-06-03    ┆ 192.69 ┆ 192.69 ┆ 192.69 ┆ … ┆ 3376.0     ┆ NaN       ┆ NaN       ┆ 192.77       │\n",
       "│ 04:01:00      ┆        ┆        ┆        ┆   ┆            ┆           ┆           ┆              │\n",
       "│ 2024-06-03    ┆ 192.68 ┆ 192.7  ┆ 192.68 ┆ … ┆ 2348.0     ┆ NaN       ┆ NaN       ┆ 192.751326   │\n",
       "│ 04:02:00      ┆        ┆        ┆        ┆   ┆            ┆           ┆           ┆              │\n",
       "│ 2024-06-03    ┆ 192.73 ┆ 192.78 ┆ 192.73 ┆ … ┆ 8522.0     ┆ NaN       ┆ NaN       ┆ 192.721369   │\n",
       "│ 04:03:00      ┆        ┆        ┆        ┆   ┆            ┆           ┆           ┆              │\n",
       "│ 2024-06-03    ┆ 192.77 ┆ 193.0  ┆ 192.77 ┆ … ┆ 11504.0    ┆ NaN       ┆ NaN       ┆ 192.725466   │\n",
       "│ 04:04:00      ┆        ┆        ┆        ┆   ┆            ┆           ┆           ┆              │\n",
       "│ …             ┆ …      ┆ …      ┆ …      ┆ … ┆ …          ┆ …         ┆ …         ┆ …            │\n",
       "│ 2024-06-28    ┆ 183.95 ┆ 183.95 ┆ 183.95 ┆ … ┆ 9.284436e6 ┆ 51.319611 ┆ 72.250208 ┆ 183.938358   │\n",
       "│ 19:54:00      ┆        ┆        ┆        ┆   ┆            ┆           ┆           ┆              │\n",
       "│ 2024-06-28    ┆ 183.91 ┆ 183.91 ┆ 183.91 ┆ … ┆ 9.284436e6 ┆ 46.675952 ┆ 86.302971 ┆ 183.944876   │\n",
       "│ 19:56:00      ┆        ┆        ┆        ┆   ┆            ┆           ┆           ┆              │\n",
       "│ 2024-06-28    ┆ 183.95 ┆ 183.96 ┆ 183.95 ┆ … ┆ 9.284189e6 ┆ 43.264424 ┆ 21.150001 ┆ 183.948494   │\n",
       "│ 19:57:00      ┆        ┆        ┆        ┆   ┆            ┆           ┆           ┆              │\n",
       "│ 2024-06-28    ┆ 183.95 ┆ 183.95 ┆ 183.95 ┆ … ┆ 9.284825e6 ┆ 50.871007 ┆ 86.392168 ┆ 183.951277   │\n",
       "│ 19:58:00      ┆        ┆        ┆        ┆   ┆            ┆           ┆           ┆              │\n",
       "│ 2024-06-28    ┆ 183.96 ┆ 183.96 ┆ 183.95 ┆ … ┆ 9.2845e6   ┆ 38.385134 ┆ 67.770582 ┆ 183.948669   │\n",
       "│ 19:59:00      ┆        ┆        ┆        ┆   ┆            ┆           ┆           ┆              │\n",
       "└───────────────┴────────┴────────┴────────┴───┴────────────┴───────────┴───────────┴──────────────┘"
      ]
     },
     "execution_count": 11,
     "metadata": {},
     "output_type": "execute_result"
    }
   ],
   "source": [
    "result_df"
   ]
  },
  {
   "cell_type": "code",
   "execution_count": null,
   "id": "63b0f678",
   "metadata": {},
   "outputs": [],
   "source": [
    "yaml_strategy = "
   ]
  }
 ],
 "metadata": {
  "kernelspec": {
   "display_name": "alpaca",
   "language": "python",
   "name": "python3"
  },
  "language_info": {
   "codemirror_mode": {
    "name": "ipython",
    "version": 3
   },
   "file_extension": ".py",
   "mimetype": "text/x-python",
   "name": "python",
   "nbconvert_exporter": "python",
   "pygments_lexer": "ipython3",
   "version": "3.13.0"
  }
 },
 "nbformat": 4,
 "nbformat_minor": 5
}
